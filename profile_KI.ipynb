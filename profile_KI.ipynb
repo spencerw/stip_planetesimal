{
 "cells": [
  {
   "cell_type": "code",
   "execution_count": 45,
   "metadata": {},
   "outputs": [],
   "source": [
    "%matplotlib inline\n",
    "import astropy.units as u\n",
    "from astropy.constants import G, k_B, m_p\n",
    "import matplotlib.pylab as plt\n",
    "import numpy as np\n",
    "\n",
    "M_sun = 1.989e33"
   ]
  },
  {
   "cell_type": "code",
   "execution_count": 46,
   "metadata": {},
   "outputs": [
    {
     "data": {
      "text/plain": [
       "7.0"
      ]
     },
     "execution_count": 46,
     "metadata": {},
     "output_type": "execute_result"
    }
   ],
   "source": [
    "a = 1\n",
    "sigma1 = 7\n",
    "alpha = 3/2\n",
    "sigma_solid = sigma1*a**-alpha\n",
    "sigma_solid"
   ]
  },
  {
   "cell_type": "code",
   "execution_count": 47,
   "metadata": {},
   "outputs": [
    {
     "data": {
      "text/plain": [
       "1680.0"
      ]
     },
     "execution_count": 47,
     "metadata": {},
     "output_type": "execute_result"
    }
   ],
   "source": [
    "f_gas = 240 # Hayashi 1981\n",
    "sigma_gas = f_gas*sigma1*a**-alpha\n",
    "sigma_gas"
   ]
  },
  {
   "cell_type": "code",
   "execution_count": 48,
   "metadata": {},
   "outputs": [
    {
     "data": {
      "text/plain": [
       "280.0"
      ]
     },
     "execution_count": 48,
     "metadata": {},
     "output_type": "execute_result"
    }
   ],
   "source": [
    "temp = 2.8e2*a**(-1/2)\n",
    "temp"
   ]
  },
  {
   "cell_type": "code",
   "execution_count": 49,
   "metadata": {},
   "outputs": [
    {
     "data": {
      "text/plain": [
       "1.3480657518081347e-09"
      ]
     },
     "execution_count": 49,
     "metadata": {},
     "output_type": "execute_result"
    }
   ],
   "source": [
    "H1 = 0.047\n",
    "rho1 = f_gas*sigma1/(np.sqrt(np.pi)*(H1*u.AU).to(u.cm).value)\n",
    "rho_gas = rho1*a**(-alpha-5/4)\n",
    "rho_gas"
   ]
  },
  {
   "cell_type": "code",
   "execution_count": 139,
   "metadata": {},
   "outputs": [],
   "source": [
    "a_cm = (a*u.AU).to(u.cm).value\n",
    "\n",
    "M = 1e23\n",
    "rh = (M/(3*M_sun))**(1/3)*a_cm\n",
    "\n",
    "omega = np.sqrt(G.cgs.value*M_sun/a_cm**3)\n",
    "\n",
    "logLam = 3\n",
    "b = 5*rh\n",
    "e = np.logspace(-4, -1)\n",
    "i = e/2\n",
    "vk = np.sqrt(G.cgs.value*M_sun/a_cm)\n",
    "v = e*vk\n",
    "nm = 1/(2*np.pi*a_cm*b*2*a_cm*i)\n",
    "h = v/omega\n",
    "#nm = sigma_solid/(M*h)\n",
    "T_vs = v**3/(np.pi*G.cgs.value**2*nm*M**2*logLam)"
   ]
  },
  {
   "cell_type": "code",
   "execution_count": 140,
   "metadata": {},
   "outputs": [
    {
     "name": "stdout",
     "output_type": "stream",
     "text": [
      "[   297.88620358    342.98480432    394.91112573    454.69885331\n",
      "    523.53816778    602.79943776    694.06049935    799.1380658\n",
      "    920.12389239   1059.42641651   1219.8187019    1404.49364138\n",
      "   1617.12751706   1861.95318327   2143.84432898   2468.41249726\n",
      "   2842.11879298   3272.40250258   3767.82918622   4338.26119046\n",
      "   4995.05397577   5751.28216709   6621.99982741   7624.54013562\n",
      "   8778.86043413  10107.93951519  11638.23505446  13400.21029799\n",
      "  15428.94048711  17764.81109334  20454.32176277  23551.011974\n",
      "  27116.52683635  31221.84424508  35948.68782227  41391.15377039\n",
      "  47657.58402404  54872.72298829  63180.20079724  72745.39252646\n",
      "  83758.71027716  96439.39366664 111039.8741816  127850.80027448\n",
      " 147206.82323624 169493.25902367 195153.7586567  224699.13987859\n",
      " 258717.55588882 297886.20357537]\n"
     ]
    }
   ],
   "source": [
    "CD = 1\n",
    "rho_pl = 2\n",
    "r = (3*M/(4*np.pi*rho_pl))**(1/3)\n",
    "\n",
    "eta = 0.002\n",
    "cs = H1*a_cm*omega\n",
    "n = 0.5\n",
    "u_gas = v#k*(1 - np.sqrt(1 - 2*n*cs**2/vk**2))\n",
    "print(u_gas)\n",
    "T_gas = 2*M/(CD*np.pi*r**2*rho_gas*u_gas)"
   ]
  },
  {
   "cell_type": "code",
   "execution_count": 144,
   "metadata": {},
   "outputs": [
    {
     "data": {
      "image/png": "[encoded data removed]",
      "text/plain": [
       "<Figure size 432x288 with 1 Axes>"
      ]
     },
     "metadata": {
      "needs_background": "light"
     },
     "output_type": "display_data"
    }
   ],
   "source": [
    "# Matches up well using exact equations from KI 2002\n",
    "e_h = e*a_cm/rh\n",
    "plt.plot(e_h, T_vs/3.15e7)\n",
    "#plt.plot(e_h, T_vs1/3.15e7)\n",
    "plt.plot(e_h, T_gas/3.13e7)\n",
    "#plt.axhline(T_gas/3.15e7, ls='--')\n",
    "plt.xscale('log')\n",
    "plt.yscale('log')"
   ]
  },
  {
   "cell_type": "code",
   "execution_count": 153,
   "metadata": {},
   "outputs": [],
   "source": [
    "a_cm = (a*u.AU).to(u.cm).value\n",
    "\n",
    "M = 1e23\n",
    "rh = (M/(3*M_sun))**(1/3)*a_cm\n",
    "\n",
    "omega = np.sqrt(G.cgs.value*M_sun/a_cm**3)\n",
    "\n",
    "logLam = 3\n",
    "e = np.logspace(-4, -1)\n",
    "i = e/2\n",
    "vk = np.sqrt(G.cgs.value*M_sun/a_cm)\n",
    "v = e*vk\n",
    "h = v/omega\n",
    "nm = sigma_solid/(2*M*h)\n",
    "T_vs = v**3/(np.pi*G.cgs.value**2*nm*M**2*logLam)"
   ]
  },
  {
   "cell_type": "code",
   "execution_count": 154,
   "metadata": {},
   "outputs": [
    {
     "name": "stdout",
     "output_type": "stream",
     "text": [
      "1645.531057040857\n"
     ]
    }
   ],
   "source": [
    "CD = 1\n",
    "rho_pl = 2\n",
    "r = (3*M/(4*np.pi*rho_pl))**(1/3)\n",
    "\n",
    "cs = H1*a_cm*omega\n",
    "n = 0.5\n",
    "u_gas = vk*(1 - np.sqrt(1 - n*cs**2/vk**2))\n",
    "print(u_gas)\n",
    "T_gas = 2*M/(CD*np.pi*r**2*rho_gas*u_gas)"
   ]
  },
  {
   "cell_type": "code",
   "execution_count": 155,
   "metadata": {},
   "outputs": [
    {
     "data": {
      "image/png": "[encoded data removed]",
      "text/plain": [
       "<Figure size 432x288 with 1 Axes>"
      ]
     },
     "metadata": {
      "needs_background": "light"
     },
     "output_type": "display_data"
    }
   ],
   "source": [
    "e_h = e*a_cm/rh\n",
    "plt.plot(e_h, T_vs/3.15e7)\n",
    "#plt.plot(e_h, T_gas/3.13e7)\n",
    "plt.axhline(T_gas/3.15e7, ls='--')\n",
    "plt.xscale('log')\n",
    "plt.yscale('log')"
   ]
  },
  {
   "cell_type": "code",
   "execution_count": null,
   "metadata": {},
   "outputs": [],
   "source": []
  }
 ],
 "metadata": {
  "kernelspec": {
   "display_name": "Python 3",
   "language": "python",
   "name": "python3"
  },
  "language_info": {
   "codemirror_mode": {
    "name": "ipython",
    "version": 3
   },
   "file_extension": ".py",
   "mimetype": "text/x-python",
   "name": "python",
   "nbconvert_exporter": "python",
   "pygments_lexer": "ipython3",
   "version": "3.7.3"
  }
 },
 "nbformat": 4,
 "nbformat_minor": 2
}
