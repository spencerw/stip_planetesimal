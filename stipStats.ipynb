{
 "cells": [
  {
   "cell_type": "code",
   "execution_count": 1,
   "metadata": {},
   "outputs": [],
   "source": [
    "%matplotlib inline\n",
    "from astropy.table import unique\n",
    "import astroquery.nasa_exoplanet_archive as exoplanet\n",
    "import astropy.units as u\n",
    "import matplotlib.pylab as plt\n",
    "import matplotlib as mpl\n",
    "import numpy as np\n",
    "\n",
    "mpl.rcParams.update({'font.size': 18, 'font.family': 'STIXGeneral', 'mathtext.fontset': 'stix',\n",
    "                            'image.cmap': 'viridis'})"
   ]
  },
  {
   "cell_type": "markdown",
   "metadata": {},
   "source": [
    "Explore statistics of systems of tightly-packed inner planets (STIPs).<br>\n",
    "\n",
    "STIPs are defined by the following criteria:\n",
    "<ul> \n",
    "    <li>Three or more planets</li>\n",
    "    <li>Orbital period < 100 days</li>\n",
    "    <li>$R_{p} < 10 R_{\\bigoplus}$</li>\n",
    "</ul>"
   ]
  },
  {
   "cell_type": "code",
   "execution_count": 2,
   "metadata": {},
   "outputs": [],
   "source": [
    "df = exoplanet.NasaExoplanetArchive.get_confirmed_planets_table()"
   ]
  },
  {
   "cell_type": "code",
   "execution_count": 11,
   "metadata": {},
   "outputs": [
    {
     "name": "stdout",
     "output_type": "stream",
     "text": [
      "710 STIP planets\n",
      "221 STIP systems\n"
     ]
    }
   ],
   "source": [
    "mask = (df['pl_orbper'] < 100*u.day) & (df['pl_pnum'] >= 3) &\\\n",
    "         (df['pl_radj'] <= (10*u.Rearth).to(u.Rjup))\n",
    "df1 = df[mask]\n",
    "df_host = unique(df1, keys='pl_hostname')\n",
    "print(str(len(df1)) + ' STIP planets')\n",
    "stip_star_names = np.unique(df[mask]['pl_hostname'])\n",
    "print(str(len(df_host)) + ' STIP systems')"
   ]
  },
  {
   "cell_type": "code",
   "execution_count": 12,
   "metadata": {},
   "outputs": [
    {
     "data": {
      "text/plain": [
       "Text(0, 0.5, 'Number of Systems')"
      ]
     },
     "execution_count": 12,
     "metadata": {},
     "output_type": "execute_result"
    },
    {
     "data": {
      "image/png": "[encoded data removed]",
      "text/plain": [
       "<Figure size 576x576 with 1 Axes>"
      ]
     },
     "metadata": {
      "needs_background": "light"
     },
     "output_type": "display_data"
    }
   ],
   "source": [
    "mass = df_host['st_mass']\n",
    "\n",
    "fig, axes = plt.subplots(figsize=(8,8))\n",
    "hist, bins = np.histogram(mass)\n",
    "bins = 0.5*(bins[1:] + bins[:-1])\n",
    "axes.plot(bins, hist, linestyle='steps-mid')\n",
    "axes.set_xlabel(r'Stellar Host Mass [$M_{\\odot}$]')\n",
    "axes.set_ylabel('Number of Systems')"
   ]
  },
  {
   "cell_type": "code",
   "execution_count": 37,
   "metadata": {},
   "outputs": [
    {
     "name": "stdout",
     "output_type": "stream",
     "text": [
      "38 STIP planets\n",
      "11 STIP systems\n"
     ]
    }
   ],
   "source": [
    "mask = (df['pl_orbper'] < 100*u.day) & (df['pl_pnum'] >= 3) &\\\n",
    "         (df['pl_radj'] <= (10*u.Rearth).to(u.Rjup)) & (df['st_teff'] < (3500*u.K)) & (df['st_teff'] > (0*u.K))\n",
    "df1 = df[mask]\n",
    "df_host = unique(df1, keys='pl_hostname')\n",
    "print(str(len(df1)) + ' STIP planets')\n",
    "stip_star_names = np.unique(df[mask]['pl_hostname'])\n",
    "print(str(len(df_host)) + ' STIP systems')"
   ]
  },
  {
   "cell_type": "code",
   "execution_count": 38,
   "metadata": {},
   "outputs": [
    {
     "data": {
      "text/html": [
       "&lt;MaskedColumn name=&apos;pl_hostname&apos; dtype=&apos;str27&apos; length=11&gt;\n",
       "<table>\n",
       "<tr><td>GJ 3293</td></tr>\n",
       "<tr><td>GJ 667 C</td></tr>\n",
       "<tr><td>K2-239</td></tr>\n",
       "<tr><td>K2-72</td></tr>\n",
       "<tr><td>Kepler-42</td></tr>\n",
       "<tr><td>Kepler-445</td></tr>\n",
       "<tr><td>Kepler-446</td></tr>\n",
       "<tr><td>L 98-59</td></tr>\n",
       "<tr><td>TRAPPIST-1</td></tr>\n",
       "<tr><td>Wolf 1061</td></tr>\n",
       "<tr><td>YZ Cet</td></tr>\n",
       "</table>"
      ],
      "text/plain": [
       "<MaskedColumn name='pl_hostname' dtype='str27' length=11>\n",
       "   GJ 3293\n",
       "  GJ 667 C\n",
       "    K2-239\n",
       "     K2-72\n",
       " Kepler-42\n",
       "Kepler-445\n",
       "Kepler-446\n",
       "   L 98-59\n",
       "TRAPPIST-1\n",
       " Wolf 1061\n",
       "    YZ Cet"
      ]
     },
     "execution_count": 38,
     "metadata": {},
     "output_type": "execute_result"
    }
   ],
   "source": [
    "stip_star_names"
   ]
  },
  {
   "cell_type": "code",
   "execution_count": null,
   "metadata": {},
   "outputs": [],
   "source": []
  }
 ],
 "metadata": {
  "kernelspec": {
   "display_name": "Python 3",
   "language": "python",
   "name": "python3"
  },
  "language_info": {
   "codemirror_mode": {
    "name": "ipython",
    "version": 3
   },
   "file_extension": ".py",
   "mimetype": "text/x-python",
   "name": "python",
   "nbconvert_exporter": "python",
   "pygments_lexer": "ipython3",
   "version": "3.7.3"
  }
 },
 "nbformat": 4,
 "nbformat_minor": 2
}
