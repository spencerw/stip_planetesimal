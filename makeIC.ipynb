{
 "cells": [
  {
   "cell_type": "code",
   "execution_count": 32,
   "metadata": {},
   "outputs": [],
   "source": [
    "%matplotlib inline\n",
    "import matplotlib.pylab as plt\n",
    "import numpy as np\n",
    "import pynbody as pb\n",
    "import os\n",
    "\n",
    "from scipy import integrate\n",
    "\n",
    "from astropy import units as u\n",
    "from astropy.constants import G\n",
    "simT = u.year/(2*np.pi)\n",
    "simV = u.AU / simT\n",
    "\n",
    "import sys\n",
    "sys.path.insert(0, '/astro/users/scw7/OrbitTools/')\n",
    "import OrbitTools\n",
    "\n",
    "from profileTools import *"
   ]
  },
  {
   "cell_type": "code",
   "execution_count": 28,
   "metadata": {},
   "outputs": [
    {
     "name": "stdout",
     "output_type": "stream",
     "text": [
      "Total disk mass is 0.13320544623251612 Earth masses\n",
      "189923 planetesimals required\n"
     ]
    }
   ],
   "source": [
    "m_central = 0.13\n",
    "m_central_cgs = (m_central*u.M_sun).to(u.g).value\n",
    "T_in, T_out = 1, 100 # days\n",
    "\n",
    "r_in, r_out = sma((T_in*u.d).to(u.s).value, m_central_cgs), \\\n",
    "              sma((T_out*u.d).to(u.s).value, m_central_cgs)\n",
    "r = np.linspace(r_in, r_out)\n",
    "r_AU = (r*u.cm).to(u.AU).value\n",
    "\n",
    "# Hayashi 1981\n",
    "alpha = 3/2\n",
    "A = 6\n",
    "\n",
    "f = m_central\n",
    "\n",
    "surf_den_pl = sigma_pl(alpha, A, r_AU, f)\n",
    "\n",
    "yvals = surf_den_pl*r\n",
    "m_disk = 2*np.pi*integrate.simps(yvals, r)\n",
    "m_disk_earth = (m_disk*u.g).to(u.M_earth).value\n",
    "print('Total disk mass is ' + str(m_disk_earth) + ' Earth masses')\n",
    "\n",
    "s_pl = (100*u.km).to(u.cm).value\n",
    "rho_pl = 2\n",
    "m_pl = 4/3*np.pi*s_pl**3\n",
    "\n",
    "N_pl = int(m_disk/m_pl)\n",
    "print(str(N_pl) + ' planetesimals required')\n",
    "ntotal = N_pl + 1"
   ]
  },
  {
   "cell_type": "code",
   "execution_count": 36,
   "metadata": {},
   "outputs": [],
   "source": [
    "# Draw planetesimal semimajor axes from a probability distribution that follows the\n",
    "# surface density profile\n",
    "\n",
    "N_pl = 10000\n",
    "\n",
    "def p(A, x):\n",
    "    return A*x**(-3/2 + 1)\n",
    "\n",
    "def cum_p(A, x, xmin):\n",
    "    x_vals = np.linspace(xmin, x)\n",
    "    return integrate.simps(p(A, x_vals), x_vals)\n",
    "\n",
    "xmin, xmax = r_in, r_out\n",
    "xvals = np.linspace(xmin, xmax)\n",
    "A = 1/(integrate.simps(p(1, xvals), xvals))\n",
    "\n",
    "uniform_x = np.random.rand(N_pl)*(r_out - r_in) + r_in\n",
    "a_random = np.empty(N_pl)\n",
    "for idx in range(N_pl):\n",
    "    a_random[idx] = (1 - cum_p(A, uniform_x[idx], xmin))*(r_out - r_in) + r_in"
   ]
  },
  {
   "cell_type": "code",
   "execution_count": 37,
   "metadata": {},
   "outputs": [],
   "source": [
    "# Eccentricities and inclinations come from a rayleigh distribution with inclination\n",
    "# dist half as large as ecc dist\n",
    "# Mode of distribution chosen so that stopping time from gas and relaxation time are equal\n",
    "\n",
    "omega = np.sqrt(G.cgs.value*m_central_cgs/r**3)\n",
    "C_D = 1\n",
    "vk = np.sqrt(G.cgs.value*m_central_cgs/r)\n",
    "\n",
    "# Values for M stars from Backus + Quinn 2016\n",
    "q = 0.59\n",
    "T0 = 130\n",
    "mu = 2.34 # Hayashi 1981\n",
    "gas_to_dust = 0.01\n",
    "\n",
    "cs = soundspeed(T0, mu, q, r_AU)\n",
    "vgas = v_gas(m_central, r, cs, q)\n",
    "rhogas = rho_gas(cs, omega, surf_den_pl, gas_to_dust)\n",
    "e_std = e_eq(omega, surf_den_pl, m_pl, s_pl, C_D, vk, rhogas, vgas)\n",
    "\n",
    "# Bin particles by semimajor axis and assign eccentricites and inclinations based on above profile\n",
    "# Orbital phase and orientation assigned randomly\n",
    "a_vals = np.sort(a_random)\n",
    "ecc_vals = np.empty(len(a_sorted))\n",
    "inc_vals = np.empty(len(a_sorted))\n",
    "omega_vals = np.empty(len(a_sorted))\n",
    "Omega_vals = np.empty(len(a_sorted))\n",
    "M_vals = np.empty(len(a_sorted))\n",
    "\n",
    "e_half = 0.5*(e_std[1:] + e_std[:-1])\n",
    "p_idx = 0\n",
    "for idx in range(len(r)-1):\n",
    "    mask = (a_vals >= r[idx]) & (a_vals < r[idx+1])\n",
    "    a_within = a_vals[mask]\n",
    "    e_std = e_half[idx]\n",
    "    i_std = e_std/2\n",
    "    n_within = len(a_within)\n",
    "    ecc_vals[p_idx:p_idx+n_within] = np.random.rayleigh(e_std, n_within)\n",
    "    inc_vals[p_idx:p_idx+n_within] = np.random.rayleigh(e_std, n_within)\n",
    "    omega_vals[p_idx:p_idx+n_within] = np.random.rand(n_within)*2*np.pi\n",
    "    Omega_vals[p_idx:p_idx+n_within] = np.random.rand(n_within)*2*np.pi\n",
    "    M_vals[p_idx:p_idx+n_within] = np.random.rand(n_within)*2*np.pi\n",
    "    p_idx += n_within"
   ]
  },
  {
   "cell_type": "code",
   "execution_count": 38,
   "metadata": {},
   "outputs": [],
   "source": [
    "filename = 'stip.ic'\n",
    "time = 0\n",
    "\n",
    "masses = np.empty(ntotal)\n",
    "positions = np.empty((ntotal, 3))\n",
    "velocities = np.empty((ntotal, 3))\n",
    "eps = np.empty(ntotal)\n",
    "\n",
    "for idx in range(N_pl):\n",
    "    pos, vel = OrbitTools.kep2cart(a_vals[idx], ecc_vals[idx], inc_vals[idx],\\\n",
    "                                   Omega_vals[idx], omega_vals[idx], M_vals[idx], masses[idx], m_central)\n",
    "    positions[idx+1] = pos\n",
    "    velocities[idx+1] = vel\n",
    "    masses[idx+1] = (m_pl*u.g).to(u.M_sun).value\n",
    "    eps[idx+1] = (s_pl*u.cm).to(u.AU).value/2\n",
    "    \n",
    "# Gravitational potential, not used for anything\n",
    "pot = np.zeros(ntotal)"
   ]
  },
  {
   "cell_type": "code",
   "execution_count": 39,
   "metadata": {},
   "outputs": [],
   "source": [
    "# Set the position and velocity of the central star\n",
    "\n",
    "masses[0] = m_central\n",
    "eps[0] = 1e-10\n",
    "\n",
    "m_tot = np.sum(masses)\n",
    "r_com_x = np.sum(positions[:,0][1:]*masses[1:])/m_tot\n",
    "r_com_y = np.sum(positions[:,1][1:]*masses[1:])/m_tot\n",
    "r_com_z = np.sum(positions[:,2][1:]*masses[1:])/m_tot\n",
    "\n",
    "v_com_x = np.sum(velocities[:,0][1:]*masses[1:])/m_tot\n",
    "v_com_y = np.sum(velocities[:,1][1:]*masses[1:])/m_tot\n",
    "v_com_z = np.sum(velocities[:,2][1:]*masses[1:])/m_tot\n",
    "\n",
    "positions[0] = -r_com_x, -r_com_y, -r_com_z\n",
    "velocities[0] = -v_com_x, -v_com_y, -v_com_z"
   ]
  },
  {
   "cell_type": "code",
   "execution_count": 40,
   "metadata": {},
   "outputs": [],
   "source": [
    "f = open('ic.txt', 'w')\n",
    "\n",
    "f.write(str(ntotal) + ', 0, 0\\n')\n",
    "f.write(str(3) + '\\n')\n",
    "f.write(str(time) + '\\n')\n",
    "\n",
    "for idx in range(ntotal):\n",
    "    f.write(str(masses[idx]) + '\\n')\n",
    "\n",
    "for idx in range(ntotal):\n",
    "    f.write(str(positions[:,0][idx]) + '\\n')\n",
    "for idx in range(ntotal):\n",
    "    f.write(str(positions[:,1][idx]) + '\\n')\n",
    "for idx in range(ntotal):\n",
    "    f.write(str(positions[:,2][idx]) + '\\n')\n",
    "    \n",
    "for idx in range(ntotal):\n",
    "    f.write(str(velocities[:,0][idx]) + '\\n')\n",
    "for idx in range(ntotal):\n",
    "    f.write(str(velocities[:,1][idx]) + '\\n')\n",
    "for idx in range(ntotal):\n",
    "    f.write(str(velocities[:,2][idx]) + '\\n')\n",
    "    \n",
    "for idx in range(ntotal):\n",
    "    f.write(str(eps[idx]) + '\\n')\n",
    "    \n",
    "for idx in range(ntotal):\n",
    "    f.write(str(pot[idx]) + '\\n')\n",
    "\n",
    "f.close()"
   ]
  },
  {
   "cell_type": "code",
   "execution_count": 41,
   "metadata": {},
   "outputs": [
    {
     "data": {
      "text/plain": [
       "0"
      ]
     },
     "execution_count": 41,
     "metadata": {},
     "output_type": "execute_result"
    }
   ],
   "source": [
    "os.system(\"$HOME/tipsy_tools/ascii2bin < ic.txt > \" + filename)\n",
    "os.system(\"rm ic.txt\")"
   ]
  },
  {
   "cell_type": "code",
   "execution_count": 68,
   "metadata": {},
   "outputs": [
    {
     "name": "stdout",
     "output_type": "stream",
     "text": [
      "Recommended inner timestep: 1.3072274586603282e-05\n",
      "Recommended outer timestep: 0.001307227458660328\n",
      "(in simulation units)\n",
      "If stepping at outer timestep, inner bodies will be on rung 6.643856189774724\n"
     ]
    }
   ],
   "source": [
    "# Recommended orbital timestep\n",
    "def t_step(sma):\n",
    "    return np.sqrt(sma**3/(G.cgs.value*m_central_cgs))*0.03\n",
    "\n",
    "t_step_in, t_step_out = t_step(r_in), t_step(r_out)\n",
    "print('Recommended inner timestep: ' + str((t_step_in*u.s).to(simT).value/(2*np.pi)))\n",
    "print('Recommended outer timestep: ' + str((t_step_out*u.s).to(simT).value/(2*np.pi)))\n",
    "print('(in simulation units)')\n",
    "rung = np.log2(t_step_out/t_step_in)\n",
    "print('If stepping at outer timestep, inner bodies will be on rung ' + str(rung))"
   ]
  },
  {
   "cell_type": "code",
   "execution_count": null,
   "metadata": {},
   "outputs": [],
   "source": []
  }
 ],
 "metadata": {
  "kernelspec": {
   "display_name": "Python 3",
   "language": "python",
   "name": "python3"
  },
  "language_info": {
   "codemirror_mode": {
    "name": "ipython",
    "version": 3
   },
   "file_extension": ".py",
   "mimetype": "text/x-python",
   "name": "python",
   "nbconvert_exporter": "python",
   "pygments_lexer": "ipython3",
   "version": "3.7.3"
  }
 },
 "nbformat": 4,
 "nbformat_minor": 2
}
